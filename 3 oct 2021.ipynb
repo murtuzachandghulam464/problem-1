{
 "cells": [
  {
   "cell_type": "markdown",
   "id": "c5133ad0",
   "metadata": {},
   "source": [
    "## Encapsulation "
   ]
  },
  {
   "cell_type": "code",
   "execution_count": null,
   "id": "d6fef1ff",
   "metadata": {},
   "outputs": [],
   "source": []
  },
  {
   "cell_type": "code",
   "execution_count": 7,
   "id": "f4b06496",
   "metadata": {},
   "outputs": [
    {
     "ename": "TypeError",
     "evalue": "__init__() takes 1 positional argument but 4 were given",
     "output_type": "error",
     "traceback": [
      "\u001b[1;31m---------------------------------------------------------------------------\u001b[0m",
      "\u001b[1;31mTypeError\u001b[0m                                 Traceback (most recent call last)",
      "\u001b[1;32mC:\\Users\\GHULAM~1\\AppData\\Local\\Temp/ipykernel_584/2608912349.py\u001b[0m in \u001b[0;36m<module>\u001b[1;34m\u001b[0m\n\u001b[0;32m     33\u001b[0m \u001b[0me\u001b[0m \u001b[1;33m=\u001b[0m \u001b[0mEngine\u001b[0m \u001b[1;33m(\u001b[0m\u001b[1;34m'Petrol'\u001b[0m\u001b[1;33m,\u001b[0m \u001b[1;36m2\u001b[0m\u001b[1;33m)\u001b[0m\u001b[1;33m\u001b[0m\u001b[1;33m\u001b[0m\u001b[0m\n\u001b[0;32m     34\u001b[0m \u001b[0mb\u001b[0m \u001b[1;33m=\u001b[0m \u001b[0mBody\u001b[0m \u001b[1;33m(\u001b[0m\u001b[1;34m'SUV'\u001b[0m\u001b[1;33m)\u001b[0m\u001b[1;33m\u001b[0m\u001b[1;33m\u001b[0m\u001b[0m\n\u001b[1;32m---> 35\u001b[1;33m \u001b[0mc\u001b[0m \u001b[1;33m=\u001b[0m \u001b[0mCar\u001b[0m \u001b[1;33m(\u001b[0m\u001b[0mt\u001b[0m\u001b[1;33m,\u001b[0m\u001b[0me\u001b[0m\u001b[1;33m,\u001b[0m\u001b[0mb\u001b[0m\u001b[1;33m)\u001b[0m\u001b[1;33m\u001b[0m\u001b[1;33m\u001b[0m\u001b[0m\n\u001b[0m\u001b[0;32m     36\u001b[0m \u001b[0mprint\u001b[0m\u001b[1;33m(\u001b[0m\u001b[0mc\u001b[0m\u001b[1;33m)\u001b[0m\u001b[1;33m\u001b[0m\u001b[1;33m\u001b[0m\u001b[0m\n",
      "\u001b[1;31mTypeError\u001b[0m: __init__() takes 1 positional argument but 4 were given"
     ]
    }
   ],
   "source": [
    "class Tyres:\n",
    "    def __init__(self, branch, belted_bias, opt_pressure):\n",
    "        self.branch       = branch\n",
    "        self.belted_bias  = belted_bias\n",
    "        self.opt_pressure = opt_pressure\n",
    "    def __str__ (self):\n",
    "        return ('Tyres : \\n \\tBranch: ' + self.branch            +\n",
    "                '\\n   \\tBelted_bias : ' + str(self.belted_bias)  +\n",
    "                '\\n   \\tOpt_pressure '  + str(self.opt_pressure ))\n",
    "        \n",
    "        \n",
    "class Engine:\n",
    "    def __init__(self, fuel_type, noise_level):\n",
    "        self.fuel_type   = fuel_type\n",
    "        self.noise_level = noise_level\n",
    "    def __str__(self):\n",
    "        return ('Engine : \\n \\tFuel_type: ' + self.fuel_type +\n",
    "                ' \\n \\tNoise_level: ' + str(self.noise_level))\n",
    "class Body:\n",
    "    def __init__(self, size):\n",
    "        self.size  = size\n",
    "    def __str__(self):\n",
    "        return ('Body : \\n \\tSize ' + self.size)\n",
    "class Car:\n",
    "    def __init__ (self, tyres, engine, body):\n",
    "        self.tyres  = tyres\n",
    "        self.engine = engine\n",
    "        self.body   = body\n",
    "    def __init__(self):\n",
    "        return str(self.tyres) + '\\n' + str (self.engine) + '\\n' +str(self.body)\n",
    "    \n",
    "t = Tyres ('MRF',True,34) \n",
    "e = Engine ('Petrol', 2)\n",
    "b = Body ('SUV')\n",
    "c = Car (t,e,b)\n",
    "print(c)"
   ]
  },
  {
   "cell_type": "code",
   "execution_count": 9,
   "id": "3e37fa1c",
   "metadata": {},
   "outputs": [
    {
     "ename": "TypeError",
     "evalue": "can only concatenate str (not \"Tyres\") to str",
     "output_type": "error",
     "traceback": [
      "\u001b[1;31m---------------------------------------------------------------------------\u001b[0m",
      "\u001b[1;31mTypeError\u001b[0m                                 Traceback (most recent call last)",
      "\u001b[1;32mC:\\Users\\GHULAM~1\\AppData\\Local\\Temp/ipykernel_584/2842929326.py\u001b[0m in \u001b[0;36m<module>\u001b[1;34m\u001b[0m\n\u001b[0;32m     36\u001b[0m \u001b[0mb\u001b[0m \u001b[1;33m=\u001b[0m \u001b[0mBody\u001b[0m \u001b[1;33m(\u001b[0m\u001b[1;34m'SUV'\u001b[0m\u001b[1;33m)\u001b[0m\u001b[1;33m\u001b[0m\u001b[1;33m\u001b[0m\u001b[0m\n\u001b[0;32m     37\u001b[0m \u001b[0mc\u001b[0m \u001b[1;33m=\u001b[0m \u001b[0mCar\u001b[0m \u001b[1;33m(\u001b[0m\u001b[0mt\u001b[0m\u001b[1;33m,\u001b[0m\u001b[0me\u001b[0m\u001b[1;33m,\u001b[0m\u001b[0mb\u001b[0m\u001b[1;33m)\u001b[0m\u001b[1;33m\u001b[0m\u001b[1;33m\u001b[0m\u001b[0m\n\u001b[1;32m---> 38\u001b[1;33m \u001b[0mprint\u001b[0m\u001b[1;33m(\u001b[0m\u001b[0mc\u001b[0m\u001b[1;33m)\u001b[0m\u001b[1;33m\u001b[0m\u001b[1;33m\u001b[0m\u001b[0m\n\u001b[0m\u001b[0;32m     39\u001b[0m \u001b[1;33m\u001b[0m\u001b[0m\n",
      "\u001b[1;32mC:\\Users\\GHULAM~1\\AppData\\Local\\Temp/ipykernel_584/2842929326.py\u001b[0m in \u001b[0;36m__str__\u001b[1;34m(self)\u001b[0m\n\u001b[0;32m     28\u001b[0m         \u001b[0mself\u001b[0m\u001b[1;33m.\u001b[0m\u001b[0mbody\u001b[0m   \u001b[1;33m=\u001b[0m \u001b[0mbody\u001b[0m\u001b[1;33m\u001b[0m\u001b[1;33m\u001b[0m\u001b[0m\n\u001b[0;32m     29\u001b[0m     \u001b[1;32mdef\u001b[0m \u001b[0m__str__\u001b[0m\u001b[1;33m(\u001b[0m\u001b[0mself\u001b[0m\u001b[1;33m)\u001b[0m\u001b[1;33m:\u001b[0m\u001b[1;33m\u001b[0m\u001b[1;33m\u001b[0m\u001b[0m\n\u001b[1;32m---> 30\u001b[1;33m         return ('car : \\n \\tTyres: ' + self.tyres            +\n\u001b[0m\u001b[0;32m     31\u001b[0m                 \u001b[1;34m'\\n   \\tEngine : '\u001b[0m \u001b[1;33m+\u001b[0m \u001b[0mself\u001b[0m\u001b[1;33m.\u001b[0m\u001b[0mengine\u001b[0m  \u001b[1;33m+\u001b[0m\u001b[1;33m\u001b[0m\u001b[1;33m\u001b[0m\u001b[0m\n\u001b[0;32m     32\u001b[0m                 '\\n   \\tBody '  +  self.body)\n",
      "\u001b[1;31mTypeError\u001b[0m: can only concatenate str (not \"Tyres\") to str"
     ]
    }
   ],
   "source": [
    "class Tyres:\n",
    "    def __init__(self, branch, belted_bias, opt_pressure):\n",
    "        self.branch       = branch\n",
    "        self.belted_bias  = belted_bias\n",
    "        self.opt_pressure = opt_pressure\n",
    "    def __str__ (self):\n",
    "        return ('Tyres : \\n \\tBranch: ' + self.branch            +\n",
    "                '\\n   \\tBelted_bias : ' + str(self.belted_bias)  +\n",
    "                '\\n   \\tOpt_pressure '  + str(self.opt_pressure ))\n",
    "        \n",
    "        \n",
    "class Engine:\n",
    "    def __init__(self, fuel_type, noise_level):\n",
    "        self.fuel_type   = fuel_type\n",
    "        self.noise_level = noise_level\n",
    "    def __str__(self):\n",
    "        return ('Engine : \\n \\tFuel_type: ' + self.fuel_type +\n",
    "                ' \\n \\tNoise_level: ' + str(self.noise_level))\n",
    "class Body:\n",
    "    def __init__(self, size):\n",
    "        self.size  = size\n",
    "    def __str__(self):\n",
    "        return ('Body : \\n \\tSize ' + self.size)\n",
    "class Car:\n",
    "    def __init__ (self, tyres, engine, body):\n",
    "        self.tyres  = tyres\n",
    "        self.engine = engine\n",
    "        self.body   = body\n",
    "    def __str__(self):\n",
    "        return ('car : \\n \\tTyres: ' + self.tyres            +\n",
    "                '\\n   \\tEngine : ' + self.engine  +\n",
    "                '\\n   \\tBody '  +  self.body)\n",
    "    \n",
    "t = Tyres ('MRF',True,34) \n",
    "e = Engine ('Petrol', 2)\n",
    "b = Body ('SUV')\n",
    "c = Car (t,e,b)\n",
    "print(c)\n",
    "                "
   ]
  },
  {
   "cell_type": "code",
   "execution_count": null,
   "id": "b82cff88",
   "metadata": {},
   "outputs": [],
   "source": []
  }
 ],
 "metadata": {
  "kernelspec": {
   "display_name": "Python 3 (ipykernel)",
   "language": "python",
   "name": "python3"
  },
  "language_info": {
   "codemirror_mode": {
    "name": "ipython",
    "version": 3
   },
   "file_extension": ".py",
   "mimetype": "text/x-python",
   "name": "python",
   "nbconvert_exporter": "python",
   "pygments_lexer": "ipython3",
   "version": "3.9.7"
  }
 },
 "nbformat": 4,
 "nbformat_minor": 5
}
